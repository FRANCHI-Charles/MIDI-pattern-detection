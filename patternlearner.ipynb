{
 "cells": [
  {
   "cell_type": "markdown",
   "id": "02f0ad4e",
   "metadata": {},
   "source": [
    "# First test of PatternLearner network on Fugues Data"
   ]
  },
  {
   "cell_type": "code",
   "execution_count": 1,
   "id": "f6320f62",
   "metadata": {},
   "outputs": [],
   "source": [
    "import os\n",
    "import torch\n",
    "\n",
    "from Fugues_data.loader import FuguesDataset\n",
    "from ML.architecture import PatternLearner"
   ]
  },
  {
   "cell_type": "code",
   "execution_count": 2,
   "id": "c3cf479a",
   "metadata": {},
   "outputs": [],
   "source": [
    "DATA_PATH = os.path.join(\"Fugues_data\", \"data_16_reduced.pkl\")\n",
    "MAX_EPOCH = 200\n",
    "LEARNING_RATE = 0.1\n",
    "EPSILON = 0.0000001\n",
    "PATTERNS_MAXSIZE = (1, 4*16, 10)\n",
    "\n",
    "MINDIV = 16 #from Fugues_data.midi_to_pkl import MINDIV\n",
    "\n",
    "torch.manual_seed(689)\n",
    "device = torch.device(\"cuda\" if torch.cuda.is_available() else \"cpu\")"
   ]
  },
  {
   "cell_type": "markdown",
   "id": "6fb3d63f",
   "metadata": {},
   "source": [
    "## Load the dataset"
   ]
  },
  {
   "cell_type": "code",
   "execution_count": 3,
   "id": "3ee47fd8",
   "metadata": {},
   "outputs": [
    {
     "name": "stdout",
     "output_type": "stream",
     "text": [
      "torch.Size([210, 1, 7712, 60])\n"
     ]
    }
   ],
   "source": [
    "data = FuguesDataset(DATA_PATH)\n",
    "print(data[:].shape)"
   ]
  },
  {
   "cell_type": "markdown",
   "id": "db57c9d2",
   "metadata": {},
   "source": [
    "Each music file is nearly equivalent to a picture of size 1000x500."
   ]
  },
  {
   "cell_type": "markdown",
   "id": "24d4dd6b",
   "metadata": {},
   "source": [
    "## Load architecture"
   ]
  },
  {
   "cell_type": "code",
   "execution_count": 4,
   "id": "fc91610b",
   "metadata": {},
   "outputs": [
    {
     "name": "stdout",
     "output_type": "stream",
     "text": [
      "Shape after conv 1 : torch.Size([1, 3, 964, 60])\n",
      "Shape after conv 2 : torch.Size([1, 6, 120, 60])\n",
      "Shape after conv 3 : torch.Size([1, 12, 15, 60])\n",
      "Shape after conv 4 : torch.Size([1, 24, 1, 6])\n",
      "Shape after dense Layer : torch.Size([1, 640])\n",
      "torch.Size([1, 64, 10])\n",
      "Number of parameters: 177047\n"
     ]
    }
   ],
   "source": [
    "model = PatternLearner(data[0].shape, PATTERNS_MAXSIZE)\n",
    "\n",
    "test = torch.rand((1, *data[0].shape))\n",
    "print(model(test, True).shape)\n",
    "total_params = sum(p.numel() for p in model.parameters())\n",
    "print(f\"Number of parameters: {total_params}\")"
   ]
  }
 ],
 "metadata": {
  "kernelspec": {
   "display_name": "IS2025",
   "language": "python",
   "name": "python3"
  },
  "language_info": {
   "codemirror_mode": {
    "name": "ipython",
    "version": 3
   },
   "file_extension": ".py",
   "mimetype": "text/x-python",
   "name": "python",
   "nbconvert_exporter": "python",
   "pygments_lexer": "ipython3",
   "version": "3.12.2"
  }
 },
 "nbformat": 4,
 "nbformat_minor": 5
}

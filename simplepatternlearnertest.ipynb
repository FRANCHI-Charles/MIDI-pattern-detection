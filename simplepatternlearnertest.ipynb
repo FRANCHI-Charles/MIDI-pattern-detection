{
 "cells": [
  {
   "cell_type": "markdown",
   "id": "66bed4f4",
   "metadata": {},
   "source": [
    "# Basic tests with SimplePatternLearner module"
   ]
  },
  {
   "cell_type": "code",
   "execution_count": 1,
   "id": "2a92cb88",
   "metadata": {},
   "outputs": [],
   "source": [
    "import os\n",
    "import torch\n",
    "import matplotlib.pyplot as plt\n",
    "\n",
    "from dataset.utils import load_pickle_data, save_dict\n",
    "from ML.utils import correlation\n",
    "from ML.architecture import SimplePatternLearner, Correlation_loss\n",
    "from ripdalib.variations.transform import list_to_matrix, matrix_to_list\n",
    "from ripdalib.variations.plot import plot_matrix, plot_correlation, plot_patterns_from_correlation"
   ]
  },
  {
   "cell_type": "markdown",
   "id": "e2c7fb2a",
   "metadata": {},
   "source": [
    "## Initiation"
   ]
  },
  {
   "cell_type": "code",
   "execution_count": 46,
   "id": "f0c9a203",
   "metadata": {},
   "outputs": [],
   "source": [
    "IMAGE = load_pickle_data(os.path.join(\"Fugues_data\", \"data_16.pkl\"))[\"BWV_0846\"]\n",
    "MAX_EPOCH = 200\n",
    "LEARNING_RATE = 0.1\n",
    "EPSILON = 0.0000001\n",
    "PATTERN_MAXSIZE = (4*16, 10)\n",
    "\n",
    "MINDIV = 16 #from Fugues_data.midi_to_pkl import MINDIV\n",
    "\n",
    "torch.manual_seed(689)\n",
    "device = torch.device(\"cuda\" if torch.cuda.is_available() else \"cpu\")"
   ]
  },
  {
   "cell_type": "code",
   "execution_count": 3,
   "id": "8c943093",
   "metadata": {},
   "outputs": [],
   "source": [
    "matrix_image = list_to_matrix(IMAGE, MINDIV)"
   ]
  },
  {
   "cell_type": "code",
   "execution_count": 64,
   "id": "f14deb07",
   "metadata": {},
   "outputs": [],
   "source": [
    "module = SimplePatternLearner(PATTERN_MAXSIZE)\n",
    "loss = Correlation_loss(beta=5, smooth_function=3, mean_size=10)"
   ]
  },
  {
   "cell_type": "markdown",
   "id": "b39c9a8f",
   "metadata": {},
   "source": [
    "## Training"
   ]
  },
  {
   "cell_type": "code",
   "execution_count": 66,
   "id": "30d02ecd",
   "metadata": {},
   "outputs": [
    {
     "name": "stderr",
     "output_type": "stream",
     "text": [
      "Training...:   4%|██▎                                               | 9/200 [00:02<00:50,  3.77it/s]"
     ]
    },
    {
     "name": "stdout",
     "output_type": "stream",
     "text": [
      "Current_loss = -0.26925620436668396\n"
     ]
    },
    {
     "name": "stderr",
     "output_type": "stream",
     "text": [
      "Training...:  10%|████▋                                            | 19/200 [00:05<00:44,  4.11it/s]"
     ]
    },
    {
     "name": "stdout",
     "output_type": "stream",
     "text": [
      "Current_loss = -0.27237558364868164\n"
     ]
    },
    {
     "name": "stderr",
     "output_type": "stream",
     "text": [
      "Training...:  14%|███████                                          | 29/200 [00:07<00:39,  4.38it/s]"
     ]
    },
    {
     "name": "stdout",
     "output_type": "stream",
     "text": [
      "Current_loss = -0.5205148458480835\n"
     ]
    },
    {
     "name": "stderr",
     "output_type": "stream",
     "text": [
      "Training...:  20%|█████████▌                                       | 39/200 [00:09<00:36,  4.45it/s]"
     ]
    },
    {
     "name": "stdout",
     "output_type": "stream",
     "text": [
      "Current_loss = -0.7231218814849854\n"
     ]
    },
    {
     "name": "stderr",
     "output_type": "stream",
     "text": [
      "Training...:  24%|████████████                                     | 49/200 [00:12<00:34,  4.32it/s]"
     ]
    },
    {
     "name": "stdout",
     "output_type": "stream",
     "text": [
      "Current_loss = -0.9147890210151672\n"
     ]
    },
    {
     "name": "stderr",
     "output_type": "stream",
     "text": [
      "Training...:  30%|██████████████▍                                  | 59/200 [00:14<00:33,  4.27it/s]"
     ]
    },
    {
     "name": "stdout",
     "output_type": "stream",
     "text": [
      "Current_loss = -2.823932647705078\n"
     ]
    },
    {
     "name": "stderr",
     "output_type": "stream",
     "text": [
      "Training...:  34%|████████████████▉                                | 69/200 [00:16<00:30,  4.29it/s]"
     ]
    },
    {
     "name": "stdout",
     "output_type": "stream",
     "text": [
      "Current_loss = -7.35194206237793\n"
     ]
    },
    {
     "name": "stderr",
     "output_type": "stream",
     "text": [
      "Training...:  40%|███████████████████▎                             | 79/200 [00:19<00:30,  4.01it/s]"
     ]
    },
    {
     "name": "stdout",
     "output_type": "stream",
     "text": [
      "Current_loss = -17.812265396118164\n"
     ]
    },
    {
     "name": "stderr",
     "output_type": "stream",
     "text": [
      "Training...:  44%|█████████████████████▊                           | 89/200 [00:21<00:25,  4.44it/s]"
     ]
    },
    {
     "name": "stdout",
     "output_type": "stream",
     "text": [
      "Current_loss = -18.983652114868164\n"
     ]
    },
    {
     "name": "stderr",
     "output_type": "stream",
     "text": [
      "Training...:  50%|████████████████████████▎                        | 99/200 [00:24<00:24,  4.17it/s]"
     ]
    },
    {
     "name": "stdout",
     "output_type": "stream",
     "text": [
      "Current_loss = -18.98518943786621\n"
     ]
    },
    {
     "name": "stderr",
     "output_type": "stream",
     "text": [
      "Training...:  55%|██████████████████████████▏                     | 109/200 [00:26<00:21,  4.30it/s]"
     ]
    },
    {
     "name": "stdout",
     "output_type": "stream",
     "text": [
      "Current_loss = -18.985376358032227\n"
     ]
    },
    {
     "name": "stderr",
     "output_type": "stream",
     "text": [
      "Training...:  56%|███████████████████████████                     | 113/200 [00:27<00:21,  4.14it/s]"
     ]
    },
    {
     "name": "stdout",
     "output_type": "stream",
     "text": [
      "Epsilon was reached in 113 fits.\n",
      "Last loss : -18.98542213\n"
     ]
    },
    {
     "name": "stderr",
     "output_type": "stream",
     "text": [
      "\n"
     ]
    }
   ],
   "source": [
    "torch.manual_seed(689)\n",
    "#module.reset()\n",
    "module.learn_pattern(matrix_image, loss, learning_rates=LEARNING_RATE, maxepoch=MAX_EPOCH, epsilon=EPSILON)"
   ]
  },
  {
   "cell_type": "code",
   "execution_count": 6,
   "id": "c1b059f5",
   "metadata": {},
   "outputs": [],
   "source": [
    "SAVE = True\n",
    "FILE = \"temp.pkl\"\n",
    "\n",
    "if SAVE:\n",
    "    save_dict(module.state_dict(), FILE)\n",
    "else:\n",
    "    module.load_state_dict(load_pickle_data(FILE))"
   ]
  },
  {
   "cell_type": "code",
   "execution_count": 67,
   "id": "0bdd9738",
   "metadata": {},
   "outputs": [
    {
     "data": {
      "image/png": "[encoded data removed]",
      "text/plain": [
       "<Figure size 2000x1000 with 1 Axes>"
      ]
     },
     "metadata": {},
     "output_type": "display_data"
    },
    {
     "name": "stdout",
     "output_type": "stream",
     "text": [
      "tensor(1.)\n"
     ]
    }
   ],
   "source": [
    "plot_correlation(module.pattern.squeeze((0,1)))\n",
    "with torch.no_grad():\n",
    "    print(torch.max(module.pattern))"
   ]
  },
  {
   "cell_type": "code",
   "execution_count": 28,
   "id": "a74b3a5a",
   "metadata": {},
   "outputs": [
    {
     "name": "stdout",
     "output_type": "stream",
     "text": [
      "tensor(64.0006)\n",
      "[(Fraction(1, 16), 2), (Fraction(1, 16), 4), (Fraction(1, 16), 5), (Fraction(1, 16), 7), (Fraction(5, 16), 2), (Fraction(5, 16), 4), (Fraction(5, 16), 5), (Fraction(5, 16), 7), (Fraction(9, 16), 2), (Fraction(9, 16), 4), (Fraction(9, 16), 5), (Fraction(9, 16), 7), (Fraction(13, 16), 2), (Fraction(13, 16), 4), (Fraction(13, 16), 5), (Fraction(13, 16), 7), (Fraction(17, 16), 2), (Fraction(17, 16), 4), (Fraction(17, 16), 5), (Fraction(17, 16), 7), (Fraction(21, 16), 2), (Fraction(21, 16), 4), (Fraction(21, 16), 5), (Fraction(21, 16), 7), (Fraction(25, 16), 2), (Fraction(25, 16), 4), (Fraction(25, 16), 5), (Fraction(25, 16), 7), (Fraction(29, 16), 2), (Fraction(29, 16), 4), (Fraction(29, 16), 5), (Fraction(29, 16), 7), (Fraction(33, 16), 2), (Fraction(33, 16), 4), (Fraction(33, 16), 5), (Fraction(33, 16), 7), (Fraction(37, 16), 2), (Fraction(37, 16), 4), (Fraction(37, 16), 5), (Fraction(37, 16), 7), (Fraction(41, 16), 2), (Fraction(41, 16), 4), (Fraction(41, 16), 5), (Fraction(41, 16), 7), (Fraction(45, 16), 2), (Fraction(45, 16), 4), (Fraction(45, 16), 5), (Fraction(45, 16), 7), (Fraction(49, 16), 2), (Fraction(49, 16), 4), (Fraction(49, 16), 5), (Fraction(49, 16), 7), (Fraction(53, 16), 2), (Fraction(53, 16), 4), (Fraction(53, 16), 5), (Fraction(53, 16), 7), (Fraction(57, 16), 2), (Fraction(57, 16), 4), (Fraction(57, 16), 5), (Fraction(57, 16), 7), (Fraction(61, 16), 2), (Fraction(61, 16), 4), (Fraction(61, 16), 5), (Fraction(61, 16), 7)]\n"
     ]
    }
   ],
   "source": [
    "print(torch.sum(module.pattern))\n",
    "print(matrix_to_list(module.pattern.squeeze((0,1)) > 0.5, mindiv=MINDIV))"
   ]
  },
  {
   "cell_type": "code",
   "execution_count": 29,
   "id": "702d839b",
   "metadata": {},
   "outputs": [
    {
     "data": {
      "text/plain": [
       "tensor(2916.0676)"
      ]
     },
     "execution_count": 29,
     "metadata": {},
     "output_type": "execute_result"
    }
   ],
   "source": [
    "test = module.pattern.squeeze((0,1))\n",
    "((test.sum() - 10)**2).sum()"
   ]
  },
  {
   "cell_type": "code",
   "execution_count": 10,
   "id": "8fba403a",
   "metadata": {},
   "outputs": [
    {
     "data": {
      "image/png": "[encoded data removed]",
      "text/plain": [
       "<Figure size 2000x1000 with 1 Axes>"
      ]
     },
     "metadata": {},
     "output_type": "display_data"
    }
   ],
   "source": [
    "plot_matrix(matrix_image)"
   ]
  },
  {
   "cell_type": "code",
   "execution_count": 11,
   "id": "40f54578",
   "metadata": {},
   "outputs": [
    {
     "name": "stdout",
     "output_type": "stream",
     "text": [
      "No new patterns obtained with this threshold and correlation.\n"
     ]
    }
   ],
   "source": [
    "plot_patterns_from_correlation(module.correlation(matrix_image), IMAGE, module.pattern.squeeze((0,1)) >0.5, threshold=0.4, quantization=MINDIV)"
   ]
  },
  {
   "cell_type": "code",
   "execution_count": 12,
   "id": "f93b34af",
   "metadata": {},
   "outputs": [
    {
     "data": {
      "image/png": "[encoded data removed]",
      "text/plain": [
       "<Figure size 2000x1000 with 1 Axes>"
      ]
     },
     "metadata": {},
     "output_type": "display_data"
    },
    {
     "name": "stdout",
     "output_type": "stream",
     "text": [
      "tensor(0.0376)\n"
     ]
    }
   ],
   "source": [
    "plot_correlation(module.correlation(matrix_image).squeeze((0,1)))\n",
    "with torch.no_grad():\n",
    "    print(torch.max(module.correlation(matrix_image)))"
   ]
  },
  {
   "cell_type": "markdown",
   "id": "1b5404bd",
   "metadata": {},
   "source": [
    "## Loss behavior\n",
    "\n",
    "- The interaction between beta and the smooth function is really sensitive.\n",
    "- The basic kernel learns extreme value\n",
    "- Positive beta give noise map\n",
    "- High Negative beta give the one element, from 0 to -high we get a decrease number of points in the pattern, but often it does not have exact apparition even once in the original piece\n",
    "- Beta does not seem to be correlated with the input neither the pattern size, but deeper investigation should be done. An adaptative beta during training could give results.\n",
    "- Generally the training find a suddent \"local minimum hole\" and have a quick deacreasing before stopping. In a bigger training with mini-batch training, we may find a better minimum\n",
    "- for the loss, the best model is still to just \"be on tatum time at nearly the same pitch\" if we tune it a bit\n",
    "\n",
    "Drawbacks :\n",
    "- see this as an optiization problem is of course not optimal and create probable high instability\n",
    "- Training on one example which must contain noise due to basic midi quantization (even if the files are mostly clean) must not be optimal."
   ]
  },
  {
   "cell_type": "markdown",
   "id": "d27fdcde",
   "metadata": {},
   "source": [
    "Residuals : supprimer le pattern dominant et recommencer\n",
    "\n",
    "Division d'un pattern en 2 avec les channels ?\n",
    "Difference trop stricte ? #Future work, voir avec 1 seul déjà\n",
    "Future path : PCA..."
   ]
  }
 ],
 "metadata": {
  "kernelspec": {
   "display_name": "IS2025",
   "language": "python",
   "name": "python3"
  },
  "language_info": {
   "codemirror_mode": {
    "name": "ipython",
    "version": 3
   },
   "file_extension": ".py",
   "mimetype": "text/x-python",
   "name": "python",
   "nbconvert_exporter": "python",
   "pygments_lexer": "ipython3",
   "version": "3.12.2"
  }
 },
 "nbformat": 4,
 "nbformat_minor": 5
}

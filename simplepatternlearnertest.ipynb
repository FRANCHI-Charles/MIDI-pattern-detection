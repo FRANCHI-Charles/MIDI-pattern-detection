{
 "cells": [
  {
   "cell_type": "markdown",
   "id": "66bed4f4",
   "metadata": {},
   "source": [
    "# Basic tests with SimplePatternLearner module"
   ]
  },
  {
   "cell_type": "code",
   "execution_count": 1,
   "id": "2a92cb88",
   "metadata": {},
   "outputs": [],
   "source": [
    "import os\n",
    "import torch\n",
    "import matplotlib.pyplot as plt\n",
    "\n",
    "from dataset.utils import load_pickle_data, save_dict\n",
    "from ML.utils import correlation\n",
    "from ML.architecture import SimplePatternLearner, Correlation_loss\n",
    "from ripdalib.variations.transform import list_to_matrix, matrix_to_list\n",
    "from ripdalib.variations.plot import plot_matrix, plot_correlation, plot_patterns_from_correlation"
   ]
  },
  {
   "cell_type": "markdown",
   "id": "e2c7fb2a",
   "metadata": {},
   "source": [
    "## Initiation"
   ]
  },
  {
   "cell_type": "code",
   "execution_count": 2,
   "id": "f0c9a203",
   "metadata": {},
   "outputs": [],
   "source": [
    "IMAGE = load_pickle_data(os.path.join(\"Fugues_data\", \"data.pkl\"))[\"BWV_0846\"]\n",
    "MAX_EPOCH = 200\n",
    "LEARNING_RATE = 0.1\n",
    "EPSILON = 0.0001\n",
    "PATTERN_MAXSIZE = (4*16, 10)\n",
    "\n",
    "MINDIV = 16 #from Fugues_data.midi_to_pkl import MINDIV\n",
    "\n",
    "torch.manual_seed(689)\n",
    "device = torch.device(\"cuda\" if torch.cuda.is_available() else \"cpu\")"
   ]
  },
  {
   "cell_type": "code",
   "execution_count": 3,
   "id": "8c943093",
   "metadata": {},
   "outputs": [],
   "source": [
    "matrix_image = list_to_matrix(IMAGE, MINDIV)"
   ]
  },
  {
   "cell_type": "code",
   "execution_count": 11,
   "id": "f14deb07",
   "metadata": {},
   "outputs": [],
   "source": [
    "module = SimplePatternLearner(PATTERN_MAXSIZE)\n",
    "loss = Correlation_loss(beta=10000000, smooth_function=3, mean_size=10)"
   ]
  },
  {
   "cell_type": "markdown",
   "id": "b39c9a8f",
   "metadata": {},
   "source": [
    "## Training"
   ]
  },
  {
   "cell_type": "code",
   "execution_count": 12,
   "id": "30d02ecd",
   "metadata": {},
   "outputs": [
    {
     "name": "stderr",
     "output_type": "stream",
     "text": [
      "Training...:   4%|██▎                                               | 9/200 [00:02<00:47,  4.02it/s]"
     ]
    },
    {
     "name": "stdout",
     "output_type": "stream",
     "text": [
      "Current_loss = 370654144.0\n"
     ]
    },
    {
     "name": "stderr",
     "output_type": "stream",
     "text": [
      "Training...:  10%|████▋                                            | 19/200 [00:04<00:42,  4.25it/s]"
     ]
    },
    {
     "name": "stdout",
     "output_type": "stream",
     "text": [
      "Current_loss = 2756717.0\n"
     ]
    },
    {
     "name": "stderr",
     "output_type": "stream",
     "text": [
      "Training...:  14%|███████                                          | 29/200 [00:07<00:43,  3.97it/s]"
     ]
    },
    {
     "name": "stdout",
     "output_type": "stream",
     "text": [
      "Current_loss = 241914.625\n"
     ]
    },
    {
     "name": "stderr",
     "output_type": "stream",
     "text": [
      "Training...:  20%|█████████▌                                       | 39/200 [00:09<00:38,  4.16it/s]"
     ]
    },
    {
     "name": "stdout",
     "output_type": "stream",
     "text": [
      "Current_loss = 577537.0\n"
     ]
    },
    {
     "name": "stderr",
     "output_type": "stream",
     "text": [
      "Training...:  24%|████████████                                     | 49/200 [00:12<00:40,  3.71it/s]"
     ]
    },
    {
     "name": "stdout",
     "output_type": "stream",
     "text": [
      "Current_loss = 674666.0\n"
     ]
    },
    {
     "name": "stderr",
     "output_type": "stream",
     "text": [
      "Training...:  30%|██████████████▍                                  | 59/200 [00:14<00:34,  4.12it/s]"
     ]
    },
    {
     "name": "stdout",
     "output_type": "stream",
     "text": [
      "Current_loss = 703917.0625\n"
     ]
    },
    {
     "name": "stderr",
     "output_type": "stream",
     "text": [
      "Training...:  34%|████████████████▉                                | 69/200 [00:16<00:30,  4.36it/s]"
     ]
    },
    {
     "name": "stdout",
     "output_type": "stream",
     "text": [
      "Current_loss = 711218.4375\n"
     ]
    },
    {
     "name": "stderr",
     "output_type": "stream",
     "text": [
      "Training...:  40%|███████████████████▎                             | 79/200 [00:19<00:28,  4.19it/s]"
     ]
    },
    {
     "name": "stdout",
     "output_type": "stream",
     "text": [
      "Current_loss = 710470.25\n"
     ]
    },
    {
     "name": "stderr",
     "output_type": "stream",
     "text": [
      "Training...:  44%|█████████████████████▊                           | 89/200 [00:21<00:26,  4.25it/s]"
     ]
    },
    {
     "name": "stdout",
     "output_type": "stream",
     "text": [
      "Current_loss = 706449.375\n"
     ]
    },
    {
     "name": "stderr",
     "output_type": "stream",
     "text": [
      "Training...:  50%|████████████████████████▎                        | 99/200 [00:24<00:23,  4.25it/s]"
     ]
    },
    {
     "name": "stdout",
     "output_type": "stream",
     "text": [
      "Current_loss = 700877.125\n"
     ]
    },
    {
     "name": "stderr",
     "output_type": "stream",
     "text": [
      "Training...:  55%|██████████████████████████▏                     | 109/200 [00:26<00:21,  4.15it/s]"
     ]
    },
    {
     "name": "stdout",
     "output_type": "stream",
     "text": [
      "Current_loss = 694372.0625\n"
     ]
    },
    {
     "name": "stderr",
     "output_type": "stream",
     "text": [
      "Training...:  60%|████████████████████████████▌                   | 119/200 [00:29<00:20,  4.03it/s]"
     ]
    },
    {
     "name": "stdout",
     "output_type": "stream",
     "text": [
      "Current_loss = 687141.25\n"
     ]
    },
    {
     "name": "stderr",
     "output_type": "stream",
     "text": [
      "Training...:  64%|██████████████████████████████▉                 | 129/200 [00:31<00:17,  4.17it/s]"
     ]
    },
    {
     "name": "stdout",
     "output_type": "stream",
     "text": [
      "Current_loss = 679236.3125\n"
     ]
    },
    {
     "name": "stderr",
     "output_type": "stream",
     "text": [
      "Training...:  70%|█████████████████████████████████▎              | 139/200 [00:34<00:13,  4.36it/s]"
     ]
    },
    {
     "name": "stdout",
     "output_type": "stream",
     "text": [
      "Current_loss = 670647.9375\n"
     ]
    },
    {
     "name": "stderr",
     "output_type": "stream",
     "text": [
      "Training...:  74%|███████████████████████████████████▊            | 149/200 [00:36<00:12,  4.19it/s]"
     ]
    },
    {
     "name": "stdout",
     "output_type": "stream",
     "text": [
      "Current_loss = 661341.375\n"
     ]
    },
    {
     "name": "stderr",
     "output_type": "stream",
     "text": [
      "Training...:  80%|██████████████████████████████████████▏         | 159/200 [00:39<00:09,  4.19it/s]"
     ]
    },
    {
     "name": "stdout",
     "output_type": "stream",
     "text": [
      "Current_loss = 651268.0\n"
     ]
    },
    {
     "name": "stderr",
     "output_type": "stream",
     "text": [
      "Training...:  84%|████████████████████████████████████████▌       | 169/200 [00:41<00:07,  4.21it/s]"
     ]
    },
    {
     "name": "stdout",
     "output_type": "stream",
     "text": [
      "Current_loss = 640370.875\n"
     ]
    },
    {
     "name": "stderr",
     "output_type": "stream",
     "text": [
      "Training...:  90%|██████████████████████████████████████████▉     | 179/200 [00:44<00:05,  3.82it/s]"
     ]
    },
    {
     "name": "stdout",
     "output_type": "stream",
     "text": [
      "Current_loss = 628585.4375\n"
     ]
    },
    {
     "name": "stderr",
     "output_type": "stream",
     "text": [
      "Training...:  94%|█████████████████████████████████████████████▎  | 189/200 [00:46<00:02,  4.06it/s]"
     ]
    },
    {
     "name": "stdout",
     "output_type": "stream",
     "text": [
      "Current_loss = 615840.625\n"
     ]
    },
    {
     "name": "stderr",
     "output_type": "stream",
     "text": [
      "Training...: 100%|███████████████████████████████████████████████▊| 199/200 [00:49<00:00,  4.11it/s]"
     ]
    },
    {
     "name": "stdout",
     "output_type": "stream",
     "text": [
      "Current_loss = 602058.9375\n"
     ]
    },
    {
     "name": "stderr",
     "output_type": "stream",
     "text": [
      "Training...: 100%|████████████████████████████████████████████████| 200/200 [00:49<00:00,  4.05it/s]"
     ]
    },
    {
     "name": "stdout",
     "output_type": "stream",
     "text": [
      "Last loss : 600620.50000000\n"
     ]
    },
    {
     "name": "stderr",
     "output_type": "stream",
     "text": [
      "\n"
     ]
    }
   ],
   "source": [
    "torch.manual_seed(689)\n",
    "module.reset()\n",
    "module.learn_pattern(matrix_image, loss, learning_rates=LEARNING_RATE, maxepoch=MAX_EPOCH, epsilon=EPSILON)"
   ]
  },
  {
   "cell_type": "code",
   "execution_count": 6,
   "id": "c1b059f5",
   "metadata": {},
   "outputs": [],
   "source": [
    "SAVE = True\n",
    "FILE = \"temp.pkl\"\n",
    "\n",
    "if SAVE:\n",
    "    save_dict(module.state_dict(), FILE)\n",
    "else:\n",
    "    module.load_state_dict(load_pickle_data(FILE))"
   ]
  },
  {
   "cell_type": "code",
   "execution_count": 13,
   "id": "0bdd9738",
   "metadata": {},
   "outputs": [
    {
     "data": {
      "image/png": "[encoded data removed]",
      "text/plain": [
       "<Figure size 2000x1000 with 1 Axes>"
      ]
     },
     "metadata": {},
     "output_type": "display_data"
    },
    {
     "name": "stdout",
     "output_type": "stream",
     "text": [
      "tensor(0.0038)\n"
     ]
    }
   ],
   "source": [
    "plot_correlation(module.pattern.squeeze((0,1)))\n",
    "with torch.no_grad():\n",
    "    print(torch.max(module.pattern))"
   ]
  },
  {
   "cell_type": "code",
   "execution_count": 8,
   "id": "a74b3a5a",
   "metadata": {},
   "outputs": [
    {
     "name": "stdout",
     "output_type": "stream",
     "text": [
      "tensor(2.2594)\n",
      "[]\n"
     ]
    }
   ],
   "source": [
    "print(torch.sum(module.pattern))\n",
    "print(matrix_to_list(module.pattern.squeeze((0,1)) > 0.5, mindiv=MINDIV))"
   ]
  },
  {
   "cell_type": "code",
   "execution_count": 9,
   "id": "8fba403a",
   "metadata": {},
   "outputs": [
    {
     "data": {
      "image/png": "[encoded data removed]",
      "text/plain": [
       "<Figure size 2000x1000 with 1 Axes>"
      ]
     },
     "metadata": {},
     "output_type": "display_data"
    }
   ],
   "source": [
    "plot_matrix(matrix_image)"
   ]
  },
  {
   "cell_type": "code",
   "execution_count": 10,
   "id": "40f54578",
   "metadata": {},
   "outputs": [
    {
     "ename": "RuntimeError",
     "evalue": "Boolean value of Tensor with more than one value is ambiguous",
     "output_type": "error",
     "traceback": [
      "\u001b[31m---------------------------------------------------------------------------\u001b[39m",
      "\u001b[31mRuntimeError\u001b[39m                              Traceback (most recent call last)",
      "\u001b[36mCell\u001b[39m\u001b[36m \u001b[39m\u001b[32mIn[10]\u001b[39m\u001b[32m, line 1\u001b[39m\n\u001b[32m----> \u001b[39m\u001b[32m1\u001b[39m \u001b[43mplot_patterns_from_correlation\u001b[49m\u001b[43m(\u001b[49m\u001b[43mmodule\u001b[49m\u001b[43m.\u001b[49m\u001b[43mcorrelation\u001b[49m\u001b[43m(\u001b[49m\u001b[43mmatrix_image\u001b[49m\u001b[43m)\u001b[49m\u001b[43m,\u001b[49m\u001b[43m \u001b[49m\u001b[43mIMAGE\u001b[49m\u001b[43m,\u001b[49m\u001b[43m \u001b[49m\u001b[43mmodule\u001b[49m\u001b[43m.\u001b[49m\u001b[43mpattern\u001b[49m\u001b[43m \u001b[49m\u001b[43m>\u001b[49m\u001b[32;43m0.5\u001b[39;49m\u001b[43m,\u001b[49m\u001b[43m \u001b[49m\u001b[43mthreshold\u001b[49m\u001b[43m=\u001b[49m\u001b[32;43m0.4\u001b[39;49m\u001b[43m,\u001b[49m\u001b[43m \u001b[49m\u001b[43mquantization\u001b[49m\u001b[43m=\u001b[49m\u001b[43mMINDIV\u001b[49m\u001b[43m)\u001b[49m\n",
      "\u001b[36mFile \u001b[39m\u001b[32m~/Documents/Intership 2025/Code/MIDI-pattern-detection/ripdalib/variations/plot.py:68\u001b[39m, in \u001b[36mplot_patterns_from_correlation\u001b[39m\u001b[34m(cor, piece, pattern, threshold, quantization)\u001b[39m\n\u001b[32m     66\u001b[39m     pattern = pattern.cpu()\n\u001b[32m     67\u001b[39m     pattern_matrix = pattern\n\u001b[32m---> \u001b[39m\u001b[32m68\u001b[39m     pattern = \u001b[43mmatrix_to_list\u001b[49m\u001b[43m(\u001b[49m\u001b[43mpattern_matrix\u001b[49m\u001b[43m,\u001b[49m\u001b[43m \u001b[49m\u001b[43mquantization\u001b[49m\u001b[43m)\u001b[49m\n\u001b[32m     69\u001b[39m \u001b[38;5;28;01melse\u001b[39;00m:\n\u001b[32m     70\u001b[39m     pattern_matrix = list_to_matrix(pattern, quantization)\n",
      "\u001b[36mFile \u001b[39m\u001b[32m~/Documents/Intership 2025/Code/MIDI-pattern-detection/ripdalib/variations/transform.py:42\u001b[39m, in \u001b[36mmatrix_to_list\u001b[39m\u001b[34m(matrix, mindiv)\u001b[39m\n\u001b[32m     40\u001b[39m \u001b[38;5;28;01mfor\u001b[39;00m i \u001b[38;5;129;01min\u001b[39;00m \u001b[38;5;28mrange\u001b[39m(matrix.shape[\u001b[32m0\u001b[39m]):\n\u001b[32m     41\u001b[39m     \u001b[38;5;28;01mfor\u001b[39;00m j \u001b[38;5;129;01min\u001b[39;00m \u001b[38;5;28mrange\u001b[39m(matrix.shape[\u001b[32m1\u001b[39m]):\n\u001b[32m---> \u001b[39m\u001b[32m42\u001b[39m         \u001b[38;5;28;01mif\u001b[39;00m matrix[i,j] > \u001b[32m0\u001b[39m:\n\u001b[32m     43\u001b[39m             points.append((Fraction(i, mindiv), j))\n\u001b[32m     44\u001b[39m \u001b[38;5;28;01mreturn\u001b[39;00m points\n",
      "\u001b[31mRuntimeError\u001b[39m: Boolean value of Tensor with more than one value is ambiguous"
     ]
    }
   ],
   "source": [
    "plot_patterns_from_correlation(module.correlation(matrix_image), IMAGE, module.pattern >0.5, threshold=0.4, quantization=MINDIV)"
   ]
  },
  {
   "cell_type": "code",
   "execution_count": null,
   "id": "f93b34af",
   "metadata": {},
   "outputs": [
    {
     "data": {
      "image/png": "[encoded data removed]",
      "text/plain": [
       "<Figure size 2000x1000 with 1 Axes>"
      ]
     },
     "metadata": {},
     "output_type": "display_data"
    },
    {
     "name": "stdout",
     "output_type": "stream",
     "text": [
      "tensor(1.0000)\n"
     ]
    }
   ],
   "source": [
    "plot_correlation(module.correlation(matrix_image).squeeze((0,1)))\n",
    "with torch.no_grad():\n",
    "    print(torch.max(module.correlation(matrix_image)))"
   ]
  },
  {
   "cell_type": "markdown",
   "id": "1b5404bd",
   "metadata": {},
   "source": [
    "## Loss behavior\n",
    "\n",
    "- The interaction between beta and the smooth function is really sensitive.\n",
    "- The basic kernel learns extreme value\n",
    "- Positive beta give noise map\n",
    "- High Negative beta give the one element, from 0 to -high we get a decrease number of points in the pattern, but often it does not have exact apparition even once in the original piece\n",
    "- Beta does not seem to be correlated with the input neither the pattern size, but deeper investigation should be done. An adaptative beta during training could give results.\n",
    "- Generally the training find a suddent \"local minimum hole\" and have a quick deacreasing before stopping. In a bigger training with mini-batch training, we may find a better minimum\n",
    "\n",
    "Drawbacks :\n",
    "- see this as an optiization problem is of course not optimal and create probable high instability\n",
    "- Training on one example which must contain noise due to basic midi quantization (even if the files are mostly clean) must not be optimal."
   ]
  },
  {
   "cell_type": "markdown",
   "id": "d27fdcde",
   "metadata": {},
   "source": [
    "Residuals : supprimer le pattern dominant et recommencer\n",
    "\n",
    "Division d'un pattern en 2 avec les channels ?\n",
    "Difference trop stricte ? #Future work, voir avec 1 seul déjà\n",
    "Future path : PCA..."
   ]
  }
 ],
 "metadata": {
  "kernelspec": {
   "display_name": "IS2025",
   "language": "python",
   "name": "python3"
  },
  "language_info": {
   "codemirror_mode": {
    "name": "ipython",
    "version": 3
   },
   "file_extension": ".py",
   "mimetype": "text/x-python",
   "name": "python",
   "nbconvert_exporter": "python",
   "pygments_lexer": "ipython3",
   "version": "3.12.2"
  }
 },
 "nbformat": 4,
 "nbformat_minor": 5
}
